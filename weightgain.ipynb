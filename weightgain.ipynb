{
 "cells": [
  {
   "cell_type": "code",
   "execution_count": 2,
   "metadata": {
    "collapsed": true
   },
   "outputs": [],
   "source": [
    "from scipy.integrate import ode\n",
    "from scipy.integrate import odeint\n",
    "import numpy as np\n",
    "import matplotlib.pyplot as plt\n",
    "from math import log"
   ]
  },
  {
   "cell_type": "markdown",
   "metadata": {},
   "source": [
    "## Weight Gain"
   ]
  },
  {
   "cell_type": "code",
   "execution_count": 6,
   "metadata": {
    "collapsed": true
   },
   "outputs": [],
   "source": [
    "rho_F = 9400.\n",
    "rho_L = 1800.\n",
    "gamma_F = 3.2\n",
    "gamma_L = 22.\n",
    "eta_F = 180.\n",
    "eta_L = 230.\n",
    "C = 10.4 # Forbes constant\n",
    "beta_AT = 0.14 # Adaptive Thermogenesis\n",
    "beta_TEF = 0.1 # Thermic Effect of Feeding\n",
    "K = 0"
   ]
  },
  {
   "cell_type": "code",
   "execution_count": 7,
   "metadata": {
    "collapsed": true
   },
   "outputs": [],
   "source": [
    "def forbes(F):\n",
    "    C1 = C * rho_L / rho_F\n",
    "    return C1 / (C1 + F)\n",
    "\n",
    "def energy_balance(F, L, EI, PAL):\n",
    "    p = forbes(F)\n",
    "    a1 = (1. / PAL - beta_AT) * EI - K - gamma_F * F - gamma_L * L\n",
    "    a2 = (1 - p) * eta_F / rho_F + p * eta_L / rho_L + 1. / PAL\n",
    "    return a1 / a2\n",
    "\n",
    "def weight_odesystem(t, y, EI, PAL):\n",
    "    F, L = y[0], y[1]\n",
    "    p, EB = forbes(F), energy_balance(F, L, EI, PAL)\n",
    "    return np.array([(1 - p) * EB / rho_F , p * EB / rho_L])\n",
    "\n",
    "def fat_mass(BW, age, H, sex):\n",
    "    BMI = BW / H**2.\n",
    "    if sex == 'male':\n",
    "        return BW * (-103.91 + 37.31 * log(BMI) + 0.14 * age) / 100\n",
    "    else:\n",
    "        return BW * (-102.01 + 39.96 * log(BMI) + 0.14 * age) / 100"
   ]
  },
  {
   "cell_type": "code",
   "execution_count": 13,
   "metadata": {
    "collapsed": false
   },
   "outputs": [
    {
     "data": {
      "image/png": "[encoded data removed]",
      "text/plain": [
       "<matplotlib.figure.Figure at 0x10f706550>"
      ]
     },
     "metadata": {},
     "output_type": "display_data"
    }
   ],
   "source": [
    "gender = 'male'\n",
    "age = 25\n",
    "height = 1.8288 # in meters\n",
    "weight = 55.610425 # in kg\n",
    "PAL = 1.7\n",
    "days = 283\n",
    "EI = 3000\n",
    "F0 = fat_mass(weight, age, height, gender)\n",
    "L0 = weight - F0\n",
    "y0 = [F0, L0]\n",
    "tf = days\n",
    "\n",
    "t = np.linspace(0,tf,tf)\n",
    "y = np.zeros((len(t), len(y0)))\n",
    "\n",
    "y[0,:] = y0\n",
    "\n",
    "\n",
    "weight_loss_ode = lambda t, y:weight_odesystem(t, y, EI, PAL)\n",
    "w_l_solver = ode(weight_loss_ode).set_integrator('dopri5') \n",
    "w_l_solver.set_initial_value(y0, 0) \n",
    "\n",
    "\n",
    "for j in range(1, len(t)):\n",
    "    y[j,:] = w_l_solver.integrate((t[j]))\n",
    "    \n",
    "np.save('weight_goal.npy',(y[:,0]+y[:,1])*2.2) # save the data\n",
    "\n",
    "plt.plot(t, y[:,0]*2.2, label='fat')\n",
    "plt.plot(t, y[:,1]*2.2, label='lean')\n",
    "plt.plot(t, (y[:,0]+y[:,1])*2.2, label='total')\n",
    "plt.legend()\n",
    "plt.xlabel('Days')\n",
    "plt.ylabel('lbs')\n",
    "plt.show()\n"
   ]
  }
 ],
 "metadata": {
  "anaconda-cloud": {},
  "kernelspec": {
   "display_name": "Python 3",
   "language": "python",
   "name": "python3"
  },
  "language_info": {
   "codemirror_mode": {
    "name": "ipython",
    "version": 3
   },
   "file_extension": ".py",
   "mimetype": "text/x-python",
   "name": "python",
   "nbconvert_exporter": "python",
   "pygments_lexer": "ipython3",
   "version": "3.6.2"
  }
 },
 "nbformat": 4,
 "nbformat_minor": 1
}
